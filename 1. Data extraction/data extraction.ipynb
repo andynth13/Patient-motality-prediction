{
 "cells": [
  {
   "cell_type": "markdown",
   "metadata": {
    "id": "-C4yHB2G3o0w"
   },
   "source": [
    "# I. Data extraction"
   ]
  },
  {
   "cell_type": "markdown",
   "metadata": {},
   "source": [
    "### Methodology"
   ]
  },
  {
   "cell_type": "markdown",
   "metadata": {},
   "source": [
    "**Table used are:**\n",
    "\n",
    "* VitalPeriodic: include vital information of the patient, such as temperature, heart rate, respiration, blood pressure.... from bedside vital signs monitors and was aggregated as 5 minutes interval. This table include majority of the value required from the research papers, while other table such as nursecharting having data manually input so it is fairly unstructure.\n",
    "* Lab: include lab results, such as albumin, bun, bilirubin, lactate, bicarbonate, ... but the lab result all stored in 1 columns, the type of the test are in column 'labname' and the value of the test are in column 'labresult'.\n",
    "* Patient: include patient demographic information (age, gender, ethnicity) and time admitted to ICU.\n",
    " "
   ]
  },
  {
   "cell_type": "markdown",
   "metadata": {},
   "source": [
    "I created 8 different CTE in one query, all connected by the patientunitstayID. Below is a detailed explanation of each CTE:\n",
    "\n",
    "1. **`upd_vitalperiodic`**:\n",
    "    - **Purpose**: Cleans and processes the vital signs data.\n",
    "    - **Details**:\n",
    "        - Selects vital signs from the `vitalperiodic` table.\n",
    "        - Ensures the values of vital signs fall within valid ranges by setting values outside these ranges to `NULL`.\n",
    "        - If there are missing value, then uses the `LAST_VALUE` window function to carry forward the last non-`NULL` value for each vital sign within each `patientunitstayid` partition.\n",
    "\n",
    "2. **`vt`**:\n",
    "    - **Purpose**: Aggregates the processed vital signs data into hourly intervals.\n",
    "    - **Details**:\n",
    "        - Groups the `upd_vitalperiodic` data into 1-hour intervals (each interval represents 60 minutes).\n",
    "        - Calculates the median value of each vital sign within each interval.\n",
    "        - Joins the `patient` table to filter records based on `observationoffset` constraints (Take only the Vital recorded before patient discarded, as vital may include multiple visits).\n",
    "\n",
    "3. **`upd_laboratory`**:\n",
    "    - **Purpose**: Cleans and processes the laboratory test results.\n",
    "    - **Details**:\n",
    "        - Selects laboratory test results from the `lab` table.\n",
    "        - Ensures the lab results fall within valid ranges by setting values outside these ranges to `NULL`.\n",
    "        - If there are missing value, uses the `LAST_VALUE` window function to carry forward the last non-`NULL` value for each lab result within each `patientunitstayid` partition.\n",
    "\n",
    "4. **`laboratory`**:\n",
    "    - **Purpose**: Aggregates the processed laboratory test results into 8-hour intervals.\n",
    "    - **Details**:\n",
    "        - Groups the `upd_laboratory` data into 8-hour intervals (each interval represents 480 minutes).\n",
    "        - Calculates the median value of each lab result within each interval.\n",
    "        - Joins the `patient` table to filter records based on `labResultOffset` constraints (Take Lab result taken before patient discarded, as lab may measured in multiple visits).\n",
    "\n",
    "5. **`condition_vt`**:\n",
    "    - **Purpose**: Calculates the minimum and maximum `observationoffset` values for each `patientunitstayid`.\n",
    "\n",
    "6. **`condition_lab`**:\n",
    "    - **Purpose**: Calculates the minimum and maximum `labResultOffset` values for each `patientunitstayid`.\n",
    "\n",
    "7. **`vt_lab`**:\n",
    "    - **Purpose**: Identifies patients who have both vital sign and lab result observations longer than 48 hours.\n",
    "    - **Details**:\n",
    "        - Joins `condition_vt` and `condition_lab` to find patients whose observation periods for both vital signs and lab results exceed 48 hours (2880 minutes).\n",
    "\n",
    "8. **`final_patient`**:\n",
    "    - **Purpose**: Selects the first visit for each unique patient and ensures the visit duration is at least 48 hours.\n",
    "    - **Details**:\n",
    "        - Uses a window function (`ROW_NUMBER`) to identify the first visit for each unique patient.\n",
    "        - Joins the result with `vt_lab` to include only patients with long observation periods.\n",
    "        - Filters to include only visits with ICU duration longer than 48 hours (2880 minutes).\n",
    "\n",
    "**Final Query**: I pulled 3 separate dataset for further analysis\n",
    "\n",
    "1. **`Lab result`**\n",
    "- **Purpose**: Combines all processed and aggregated data to produce the final lab result set.\n",
    "- **Details**:\n",
    "    - Joins `laboratory` and `final_patient` on `patientunitstayid`.\n",
    "    - Selects all the laboratory result columns such as bilirubin, BUN....\n",
    "    - Filters the intervals to include only those within 24 hours before discharge.\n",
    "    - Orders the final result set by `patientunitstayid` and `interval`.\n",
    " \n",
    "2. **`Vital sign`**\n",
    "- **Purpose**: Combines all processed and aggregated data to produce the final vital signs set.\n",
    "- **Details**:\n",
    "    - Joins `vitalperiodic` and `final_patient` on `patientunitstayid`.\n",
    "    - Selects all the laboratory result columns such as heart rate, systolic, diastolic,...\n",
    "    - Filters the intervals to include only those within 24 hours before discharge.\n",
    "    - Orders the final result set by `patientunitstayid` and `interval`.\n",
    "\n",
    "3. **`Patient demographics`**\n",
    "- **Purpose**: Get patient infomation: gender, age, ethnicity from final_patient CTE.\n"
   ]
  },
  {
   "cell_type": "markdown",
   "metadata": {},
   "source": [
    "I got the same number with the paper after filter the patient with the first ICU admission (139,367 unique patient). However, after set up condition about the ICU duration, vital, lab duration, I got final data with 44,909 observations compared with 36,283."
   ]
  },
  {
   "cell_type": "markdown",
   "metadata": {},
   "source": [
    "### Flow chart"
   ]
  },
  {
   "cell_type": "markdown",
   "metadata": {},
   "source": [
    "**Figure 1: Query structure**\n",
    "<img src=\"data/andy.png\" width=900 height=600 />\n",
    "\n",
    "**Figure 2: Conditions used in the research paper**\n",
    "<img src=\"data/condition.png\" width=700 height=400 />\n"
   ]
  }
 ],
 "metadata": {
  "colab": {
   "provenance": [],
   "toc_visible": true
  },
  "kernelspec": {
   "display_name": "Python 3 (ipykernel)",
   "language": "python",
   "name": "python3"
  },
  "language_info": {
   "codemirror_mode": {
    "name": "ipython",
    "version": 3
   },
   "file_extension": ".py",
   "mimetype": "text/x-python",
   "name": "python",
   "nbconvert_exporter": "python",
   "pygments_lexer": "ipython3",
   "version": "3.11.7"
  }
 },
 "nbformat": 4,
 "nbformat_minor": 4
}
